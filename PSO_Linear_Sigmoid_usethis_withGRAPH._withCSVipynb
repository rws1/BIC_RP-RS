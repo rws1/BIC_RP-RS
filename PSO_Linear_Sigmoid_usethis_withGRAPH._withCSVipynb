{
 "cells": [
  {
   "cell_type": "code",
   "execution_count": 3,
   "metadata": {},
   "outputs": [],
   "source": [
    "import numpy as np\n",
    "import pandas as pd\n",
    "import matplotlib.pyplot as plt"
   ]
  },
  {
   "cell_type": "code",
   "execution_count": 4,
   "metadata": {},
   "outputs": [],
   "source": [
    "class Particle:\n",
    "   \n",
    "    def __init__(self, dims, p_range, v_range):\n",
    "        \n",
    "        #dims = number of dimensions\n",
    "        #p= position of the particle in the dimentional space\n",
    "        #v = velocity of the particle in the dimensional space\n",
    "        #p_range = range of dimensions \n",
    "        #v_range = range of velocities\n",
    "        \n",
    "        #let the position and velocity of a praticle be randomly selected from uniform distribution\n",
    "        self.p = np.random.uniform(p_range[0], p_range[1], (dims, ))\n",
    "        self.v = np.random.uniform(v_range[0], v_range[1], (dims, )) \n",
    "        \n",
    "        #the best position for any particle can be positive infinity\n",
    "        self.pbest = float('inf') #-1 #np.inf\n",
    "        \n",
    "        #define particles best position based on specified dimensions\n",
    "        self.pbestpos = np.zeros((dims, ))"
   ]
  },
  {
   "cell_type": "code",
   "execution_count": 5,
   "metadata": {},
   "outputs": [],
   "source": [
    "class Swarm:\n",
    "    \n",
    "    def __init__(self, particle_no, dims, p_range, v_range, alpha_range, component):\n",
    "        \n",
    "        #particle_no = number of particles\n",
    "        #dims = dimensions\n",
    "        #p_range = range of dimensions \n",
    "        #v_range = range of velocities\n",
    "        #alpha_range = inertia weight range\n",
    "        #components = cognetive and social components\n",
    "        \n",
    "        \n",
    "        #define the swarm with praticles from Class Particle\n",
    "        self.p = np.array([Particle(dims, p_range, v_range) for i in range(particle_no)])\n",
    "        \n",
    "        #define global best as infinity\n",
    "        self.gbest = float('inf')  #np.inf\n",
    "        \n",
    "        #define global best poition\n",
    "        self.gbestpos = np.zeros((dims, ))\n",
    "        \n",
    "        self.p_range = p_range\n",
    "        self.v_range = v_range\n",
    "        \n",
    "        self.alpha_range = alpha_range\n",
    "        \n",
    "        #components\n",
    "        self.component0 = component[0]\n",
    "        self.component1 = component[1]\n",
    "        self.dims = dims\n",
    "        \n",
    "        \n",
    "        \n",
    "    def drawGraph(self):\n",
    "        plt.plot(range(100), self.mserror, color='black')\n",
    "       \n",
    "    def optimize(self, function, input_X, output_Y,  print_step,  iter):\n",
    "        informants = 6 \n",
    "        for i in range(iter):\n",
    "            for particle in self.p:\n",
    "                fitness = function(input_X, output_Y, particle.p)\n",
    "\n",
    "                #select the particles best position\n",
    "                if fitness.any() < particle.pbest:\n",
    "                    particle.pbest = fitness.any()\n",
    "                    particle.pbestpos = particle.p.copy()\n",
    "                    \n",
    "            for i in range(informants):\n",
    "                for particle in self.p:          \n",
    "                \n",
    "                #select the global best position    \n",
    "                 if fitness.any()< self.gbest:\n",
    "                    self.gbest = fitness.any()\n",
    "                    self.gbestpos = particle.p.copy()\n",
    "                    \n",
    "\n",
    "            for particle in self.p:\n",
    "               \n",
    "                alpha = np.random.uniform(self.alpha_range[0], self.alpha_range[1], 1)[0]\n",
    "                \n",
    "                #velocity update formula\n",
    "                particle.v = alpha * particle.v + (self.component0 * np.random.uniform(0.0, 1.0, (self.dims, )) * \\\n",
    "                (particle.pbestpos - particle.p)) + (self.component1 * np.random.uniform(0.0, 1.0, (self.dims, )) \\\n",
    "                * (self.gbestpos - particle.p))\n",
    "                epsilon = 0.2\n",
    "                #particle.v = particle.v.clip(min=self.v_range[0], max=self.v_range[1])\n",
    "                particle.p = particle.p + epsilon * particle.v\n",
    "                #print(particle.p)\n",
    "                #particle.x = particle.x.clip(min=self.x_range[0], max=self.x_range[1])\n",
    "                    \n",
    "            #if i % print_step == 0:\n",
    "               # print('iteration#: ', i+1,  ' loss: ', fitness)\n",
    "\n",
    "        #print(\"global best loss: \", self.gbest)\n",
    "        \n",
    "    def get_best_solution(self):\n",
    "    \n",
    "        return self.gbestpos   \n"
   ]
  },
  {
   "cell_type": "code",
   "execution_count": 6,
   "metadata": {
    "scrolled": true
   },
   "outputs": [],
   "source": [
    "import csv\n",
    "with open(\"X_linear.csv\", 'r') as f:\n",
    "    Xin = list(csv.reader(f, delimiter=\";\"))\n",
    "import numpy as np\n",
    "Xin = np.array(Xin[1:], dtype=np.float)\n",
    "#print(Xin)\n",
    "#print(Xin.shape)"
   ]
  },
  {
   "cell_type": "code",
   "execution_count": 7,
   "metadata": {
    "scrolled": false
   },
   "outputs": [],
   "source": [
    "#input_X = layer1_input.values\n",
    "input_X= Xin\n",
    "#input_X"
   ]
  },
  {
   "cell_type": "code",
   "execution_count": 8,
   "metadata": {},
   "outputs": [
    {
     "name": "stdout",
     "output_type": "stream",
     "text": [
      "(100, 1)\n"
     ]
    }
   ],
   "source": [
    "print(input_X.shape)"
   ]
  },
  {
   "cell_type": "code",
   "execution_count": 9,
   "metadata": {},
   "outputs": [],
   "source": [
    "output_Y = np.zeros(shape=(100,1))"
   ]
  },
  {
   "cell_type": "code",
   "execution_count": 10,
   "metadata": {},
   "outputs": [],
   "source": [
    "perfect_predict_Y = np.full((100, 1), 1, dtype=int)"
   ]
  },
  {
   "cell_type": "code",
   "execution_count": 11,
   "metadata": {},
   "outputs": [],
   "source": [
    "def linear(input_X):\n",
    "    output_Y = input_X\n",
    "    return output_Y"
   ]
  },
  {
   "cell_type": "code",
   "execution_count": 12,
   "metadata": {},
   "outputs": [],
   "source": [
    "output_Y = linear(input_X)"
   ]
  },
  {
   "cell_type": "code",
   "execution_count": 13,
   "metadata": {},
   "outputs": [],
   "source": [
    "#ANN architecture\n",
    "#define no of nodes in each layer..\n",
    "Input = 1\n",
    "Hidden = 200\n",
    "Output = 1"
   ]
  },
  {
   "cell_type": "code",
   "execution_count": 14,
   "metadata": {},
   "outputs": [
    {
     "ename": "NameError",
     "evalue": "name 'sigmoid' is not defined",
     "output_type": "error",
     "traceback": [
      "\u001b[0;31m---------------------------------------------------------------------------\u001b[0m",
      "\u001b[0;31mNameError\u001b[0m                                 Traceback (most recent call last)",
      "\u001b[0;32m<ipython-input-14-4c69d390f077>\u001b[0m in \u001b[0;36m<module>\u001b[0;34m\u001b[0m\n\u001b[0;32m----> 1\u001b[0;31m \u001b[0msig_Y\u001b[0m \u001b[0;34m=\u001b[0m \u001b[0msigmoid\u001b[0m\u001b[0;34m(\u001b[0m\u001b[0msigmoid\u001b[0m\u001b[0;34m(\u001b[0m\u001b[0minput_X\u001b[0m\u001b[0;34m)\u001b[0m\u001b[0;34m)\u001b[0m\u001b[0;34m\u001b[0m\u001b[0;34m\u001b[0m\u001b[0m\n\u001b[0m",
      "\u001b[0;31mNameError\u001b[0m: name 'sigmoid' is not defined"
     ]
    }
   ],
   "source": [
    "sig_Y = sigmoid(sigmoid(input_X))"
   ]
  },
  {
   "cell_type": "code",
   "execution_count": 15,
   "metadata": {},
   "outputs": [],
   "source": [
    "def sigmoid(x):\n",
    "    return 1/(1+np.exp(-x))"
   ]
  },
  {
   "cell_type": "code",
   "execution_count": 16,
   "metadata": {},
   "outputs": [],
   "source": [
    "def linear1(input_X):\n",
    "       return input_X"
   ]
  },
  {
   "cell_type": "code",
   "execution_count": 17,
   "metadata": {},
   "outputs": [
    {
     "name": "stdout",
     "output_type": "stream",
     "text": [
      "Empty DataFrame\n",
      "Columns: [MSE, Output_Y, Predicted_Y]\n",
      "Index: []\n"
     ]
    }
   ],
   "source": [
    "df = pd.DataFrame(columns=['MSE', 'Output_Y', 'Predicted_Y'])\n",
    "print(df)"
   ]
  },
  {
   "cell_type": "code",
   "execution_count": 18,
   "metadata": {},
   "outputs": [],
   "source": [
    "MSE = []\n",
    "\n",
    "def forward_pass(input_X, output_Y, W):\n",
    "\n",
    "     \n",
    "    if isinstance(W, Particle):\n",
    "        W = W.p\n",
    "\n",
    "    w1 = W[0 : Input * Hidden].reshape((Input, Hidden))\n",
    "\n",
    "    b1 = W[Input * Hidden:(Input * Hidden) + Hidden].reshape((Hidden, ))\n",
    "    w2 = W[(Input * Hidden) + Hidden:(Input * Hidden) + Hidden +\\\n",
    "        (Hidden * Output)].reshape((Hidden, Output))\n",
    "    \n",
    "    b2 = W[(Input * Hidden) + Hidden + (Hidden * Output): (Input *\\\n",
    "        Hidden) + Hidden + (Hidden * Output) + Output].reshape((Output, ))\n",
    "\n",
    "\n",
    "    z1 = np.dot(input_X, w1) + b1\n",
    "    a1 = sigmoid(z1)\n",
    "    z2 = np.dot(a1, w2) + b2\n",
    "    output_from_outputlayer = sigmoid(z2)\n",
    "    \n",
    "       \n",
    "    mserror1 = (np.power((output_from_outputlayer - output_Y), 2)) # **2\n",
    "    mserror = (mserror1.sum()/100)\n",
    "    MSE.append(mserror)\n",
    "    print(mserror)\n",
    "    \n",
    "    \n",
    "    \n",
    "    return mserror\n",
    "   "
   ]
  },
  {
   "cell_type": "code",
   "execution_count": 19,
   "metadata": {},
   "outputs": [],
   "source": [
    "def pass_information(input_X, W):\n",
    "\n",
    "\n",
    "    if isinstance(W, Particle):\n",
    "        W = W.p\n",
    "\n",
    "    w1 = W[0 : Input * Hidden].reshape((Input, Hidden))\n",
    "\n",
    "    b1 = W[Input * Hidden:(Input * Hidden) + Hidden].reshape((Hidden, ))\n",
    "    w2 = W[(Input * Hidden) + Hidden:(Input * Hidden) + Hidden +\\\n",
    "        (Hidden * Output)].reshape((Hidden, Output))\n",
    "    \n",
    "    b2 = W[(Input * Hidden) + Hidden + (Hidden * Output): (Input *\\\n",
    "        Hidden) + Hidden + (Hidden * Output) + Output].reshape((Output, ))\n",
    "\n",
    "\n",
    "    z1 = np.dot(input_X, w1) + b1\n",
    "    a1 = sigmoid(z1)\n",
    "    z2 = np.dot(a1, w2) + b2\n",
    "    output_from_outputlayer = sigmoid(z2)\n",
    "    \n",
    "       \n",
    "    mserror1 = (np.power((output_from_outputlayer - output_Y), 2))\n",
    "    mserror = (mserror1.sum()/100)\n",
    "   \n",
    "   # df = pd.DataFrame(columns=['MSE'])\n",
    "    #df2 = pd.DataFrame(columns=cols, index=range(2))\n",
    "    \n",
    "   # df = df.append({'MSE': mserror}, ignore_index=True)\n",
    "        \n",
    "    \n",
    "    \n",
    "    #df = pd.DataFrame(columns=['MSE'])\n",
    "\n",
    "    #df = df.append({'MSE': mserror}, ignore_index=True)\n",
    "    #print(df)\n",
    "    \n",
    "    return df\n",
    "   "
   ]
  },
  {
   "cell_type": "code",
   "execution_count": 20,
   "metadata": {},
   "outputs": [],
   "source": [
    "def predict(input_X, W):\n",
    "  \n",
    "    w1 = W[0 : Input * Hidden].reshape((Input, Hidden))\n",
    "\n",
    "    b1 = W[Input * Hidden:(Input * Hidden) + Hidden].reshape((Hidden, ))\n",
    "    w2 = W[(Input * Hidden) + Hidden:(Input * Hidden) + Hidden +\\\n",
    "        (Hidden * Output)].reshape((Hidden, Output))\n",
    "    \n",
    "    b2 = W[(Input * Hidden) + Hidden + (Hidden * Output): (Input *\\\n",
    "        Hidden) + Hidden + (Hidden * Output) + Output].reshape((Output, ))\n",
    "\n",
    "    z1 = np.dot(input_X, w1) + b1\n",
    "    a1 = sigmoid(z1)\n",
    "    z2 = np.dot(a1, w2) + b2\n",
    "    output_from_outputlayer = sigmoid(z2)\n",
    "    \n",
    "    comparison = np.round(sig_Y, 2) == np.round(output_from_outputlayer, 2)\n",
    "   # np.sum(np.round(sig_Y, 2) == np.round(output_from_outputlayer, 2))\n",
    "    #print((np.round(sig_Y, 2)  == np.round(output_from_outputlayer, 2)).sum())\n",
    "    #print(comparison.sum())\n",
    "    \n",
    "    \n",
    "    #Y_pred = np.argmax(output_from_outputlayer, axis=1)\n",
    "   \n",
    "    #print(output_from_outputlayer.shape)\n",
    "    Y_pred = comparison.sum()\n",
    "    return Y_pred"
   ]
  },
  {
   "cell_type": "code",
   "execution_count": 21,
   "metadata": {},
   "outputs": [],
   "source": [
    "def get_accuracy(output_Y, Y_pred):\n",
    "    return (Y_pred)*100/100"
   ]
  },
  {
   "cell_type": "code",
   "execution_count": 22,
   "metadata": {},
   "outputs": [
    {
     "name": "stdout",
     "output_type": "stream",
     "text": [
      "1.0307914720847366\n",
      "1.3429713395715688\n",
      "1.351462665990063\n",
      "1.349585032056352\n",
      "1.307983073304338\n",
      "0.7995232394913455\n",
      "0.33748048630488425\n",
      "0.31730604969733794\n",
      "0.3339733704973111\n",
      "0.731743297576211\n",
      "1.212902763996178\n",
      "1.3149236552840415\n",
      "1.3187984755696578\n",
      "1.2678262136604272\n",
      "1.0629437097389751\n",
      "0.686317168337748\n",
      "0.5003232066139219\n",
      "0.5415068564714454\n",
      "0.7813236848771028\n",
      "1.0797289428057677\n",
      "1.2129086054681715\n",
      "1.2462723478783504\n",
      "1.2167977519366495\n",
      "1.1130743540474202\n",
      "0.9434126680224167\n",
      "0.8052025491930896\n",
      "0.7852451650998663\n",
      "0.8636593285074441\n",
      "0.9938148037519464\n",
      "1.0969084505469497\n",
      "1.1469914670377725\n",
      "1.1459129385768263\n",
      "1.102378151990103\n",
      "1.0219263816065873\n",
      "0.9468951447151319\n",
      "0.9092681310443431\n",
      "0.9272959784311091\n",
      "0.98600543843246\n",
      "1.0488311716804022\n",
      "1.088609541563401\n",
      "1.1005776918674748\n",
      "1.0823799199168136\n",
      "1.0451429775787349\n",
      "1.0069174809928758\n",
      "0.9816967146762109\n",
      "0.9813128975810603\n",
      "1.0008422318176304\n",
      "1.0284828622400697\n",
      "1.0516260172969978\n",
      "1.0611190897315759\n",
      "1.057531056849558\n",
      "1.0427862263714807\n",
      "1.02496320183874\n",
      "1.0123899320170735\n",
      "1.0097583798373813\n",
      "1.016128177032955\n",
      "1.0279372116835537\n",
      "1.0390769176064725\n",
      "1.04537145897578\n",
      "1.0449427069180248\n",
      "1.0382248681113437\n",
      "1.0290688911031471\n",
      "1.021901311326892\n",
      "1.0205388946274763\n",
      "1.0237987972234441\n",
      "1.0289591506394995\n",
      "1.0343052667691308\n",
      "1.0380068693149191\n",
      "1.037553663289856\n",
      "1.0346948539283036\n",
      "1.0307747622964625\n",
      "1.0268033418370153\n",
      "1.0252079426388285\n",
      "1.0262853380719785\n",
      "1.029371659347442\n",
      "1.0324954749118609\n",
      "1.0343578730930016\n",
      "1.0343620986909676\n",
      "1.032973073969748\n",
      "1.0307845170791785\n",
      "1.0289984210727838\n",
      "1.0282512878838264\n",
      "1.0290861423727444\n",
      "1.030494278076213\n",
      "1.0317044460841276\n",
      "1.032435873651493\n",
      "1.0323815102003837\n",
      "1.0316593995880063\n",
      "1.0307057605532262\n",
      "1.0297603084685445\n",
      "1.0294663100505659\n",
      "1.0297390323048952\n",
      "1.0304616879415094\n",
      "1.031356534897963\n",
      "1.031904665651804\n",
      "1.0318829263648115\n",
      "1.031516266775737\n",
      "1.0308778990051184\n",
      "1.0303015598853158\n",
      "1.0301460159981175\n",
      "1.0301296245765477\n",
      "1.0303620204126467\n",
      "1.0306799258424721\n",
      "1.0310283159294185\n",
      "1.0313020269586837\n",
      "1.031328111134533\n",
      "1.0311430019208903\n",
      "1.0309307892608632\n",
      "1.030575216255202\n",
      "1.0303435694037268\n",
      "1.0303116100366758\n",
      "1.0304952549299806\n",
      "1.030789256041475\n",
      "1.0310335750074027\n",
      "1.0311349645482992\n",
      "1.031082214532699\n",
      "1.030912803089806\n",
      "1.0307224408862323\n",
      "1.0306212610514869\n",
      "1.0305866690913599\n",
      "1.0306506641464113\n",
      "1.0307514370099193\n",
      "1.0308489840305912\n",
      "1.0309136060616684\n",
      "1.030932178838282\n",
      "1.030894632305028\n",
      "1.03082650552888\n",
      "1.0307475320950883\n",
      "1.0306867170638114\n",
      "1.030678437983521\n",
      "1.0307104696210867\n",
      "1.0307917749467763\n",
      "1.0308577237161847\n",
      "1.0308874086107003\n",
      "1.0308843620608048\n",
      "1.0308417209882172\n",
      "1.030778986655831\n",
      "1.0307345445814347\n",
      "1.0307237171257868\n",
      "1.0307399406373794\n",
      "1.0307798394000327\n",
      "1.0308241942438803\n",
      "1.030847767803432\n",
      "1.0308449239269963\n",
      "1.0308243960211945\n",
      "1.0307934024702985\n",
      "1.0307642691168621\n",
      "1.0307494547526623\n",
      "1.0307498414011393\n",
      "1.0307730724674335\n",
      "1.030801612660766\n",
      "1.0308209233494627\n",
      "1.0308249919768238\n",
      "1.0308179508761508\n",
      "1.0308021458384609\n",
      "1.0307832928780871\n",
      "1.0307697993912075\n",
      "1.030769515333843\n",
      "1.0307771492553188\n",
      "1.0307868857655789\n",
      "1.030794864247495\n",
      "1.0308021189043637\n",
      "1.030801634349498\n",
      "1.0307980922536486\n",
      "1.030792021474316\n",
      "1.0307856558123458\n",
      "1.0307838886046106\n",
      "1.0307854007304953\n",
      "1.0307884813400916\n",
      "1.03079176670339\n",
      "1.0307928987551083\n",
      "1.0307935966476083\n",
      "1.0307939839141953\n",
      "1.0307938269873773\n",
      "1.0307924871888872\n",
      "1.0307889488158215\n",
      "1.0307869710650386\n",
      "1.030787425238236\n",
      "1.030789348456218\n",
      "1.0307914000983744\n",
      "1.030792403118457\n",
      "1.0307932881638382\n",
      "1.0307933621959786\n",
      "1.0307927029791575\n",
      "1.0307916638905674\n",
      "1.03079062731959\n",
      "1.0307907219459296\n",
      "1.0307910392644686\n",
      "1.0307917238411148\n",
      "1.03079237934673\n",
      "1.0307926457621779\n",
      "1.0307923286357972\n",
      "1.0307915210139693\n",
      "1.0307906186088889\n",
      "1.0307899918727372\n",
      "1.030790140462266\n",
      "1.0307909273417697\n",
      "1.0307918902475641\n",
      "1.0307926691238998\n",
      "1.0307928504055\n"
     ]
    },
    {
     "ename": "NameError",
     "evalue": "name 'sig_Y' is not defined",
     "output_type": "error",
     "traceback": [
      "\u001b[0;31m---------------------------------------------------------------------------\u001b[0m",
      "\u001b[0;31mNameError\u001b[0m                                 Traceback (most recent call last)",
      "\u001b[0;32m<ipython-input-22-486867398db0>\u001b[0m in \u001b[0;36m<module>\u001b[0;34m\u001b[0m\n\u001b[1;32m     14\u001b[0m \u001b[0;34m\u001b[0m\u001b[0m\n\u001b[1;32m     15\u001b[0m     \u001b[0mW\u001b[0m \u001b[0;34m=\u001b[0m \u001b[0ms\u001b[0m\u001b[0;34m.\u001b[0m\u001b[0mget_best_solution\u001b[0m\u001b[0;34m(\u001b[0m\u001b[0;34m)\u001b[0m\u001b[0;34m\u001b[0m\u001b[0;34m\u001b[0m\u001b[0m\n\u001b[0;32m---> 16\u001b[0;31m     \u001b[0mY_pred\u001b[0m \u001b[0;34m=\u001b[0m \u001b[0mpredict\u001b[0m\u001b[0;34m(\u001b[0m\u001b[0minput_X\u001b[0m\u001b[0;34m,\u001b[0m \u001b[0mW\u001b[0m\u001b[0;34m)\u001b[0m\u001b[0;34m\u001b[0m\u001b[0;34m\u001b[0m\u001b[0m\n\u001b[0m\u001b[1;32m     17\u001b[0m     \u001b[0maccuracy\u001b[0m \u001b[0;34m=\u001b[0m \u001b[0mget_accuracy\u001b[0m\u001b[0;34m(\u001b[0m\u001b[0moutput_Y\u001b[0m\u001b[0;34m,\u001b[0m \u001b[0mY_pred\u001b[0m\u001b[0;34m)\u001b[0m\u001b[0;34m\u001b[0m\u001b[0;34m\u001b[0m\u001b[0m\n\u001b[1;32m     18\u001b[0m     \u001b[0mAverage_accuracy\u001b[0m \u001b[0;34m=\u001b[0m \u001b[0maccuracy\u001b[0m\u001b[0;34m.\u001b[0m\u001b[0msum\u001b[0m\u001b[0;34m(\u001b[0m\u001b[0;34m)\u001b[0m\u001b[0;34m/\u001b[0m\u001b[0miterations\u001b[0m\u001b[0;34m\u001b[0m\u001b[0;34m\u001b[0m\u001b[0m\n",
      "\u001b[0;32m<ipython-input-20-97b5afec659a>\u001b[0m in \u001b[0;36mpredict\u001b[0;34m(input_X, W)\u001b[0m\n\u001b[1;32m     15\u001b[0m     \u001b[0moutput_from_outputlayer\u001b[0m \u001b[0;34m=\u001b[0m \u001b[0msigmoid\u001b[0m\u001b[0;34m(\u001b[0m\u001b[0mz2\u001b[0m\u001b[0;34m)\u001b[0m\u001b[0;34m\u001b[0m\u001b[0;34m\u001b[0m\u001b[0m\n\u001b[1;32m     16\u001b[0m \u001b[0;34m\u001b[0m\u001b[0m\n\u001b[0;32m---> 17\u001b[0;31m     \u001b[0mcomparison\u001b[0m \u001b[0;34m=\u001b[0m \u001b[0mnp\u001b[0m\u001b[0;34m.\u001b[0m\u001b[0mround\u001b[0m\u001b[0;34m(\u001b[0m\u001b[0msig_Y\u001b[0m\u001b[0;34m,\u001b[0m \u001b[0;36m2\u001b[0m\u001b[0;34m)\u001b[0m \u001b[0;34m==\u001b[0m \u001b[0mnp\u001b[0m\u001b[0;34m.\u001b[0m\u001b[0mround\u001b[0m\u001b[0;34m(\u001b[0m\u001b[0moutput_from_outputlayer\u001b[0m\u001b[0;34m,\u001b[0m \u001b[0;36m2\u001b[0m\u001b[0;34m)\u001b[0m\u001b[0;34m\u001b[0m\u001b[0;34m\u001b[0m\u001b[0m\n\u001b[0m\u001b[1;32m     18\u001b[0m    \u001b[0;31m# np.sum(np.round(sig_Y, 2) == np.round(output_from_outputlayer, 2))\u001b[0m\u001b[0;34m\u001b[0m\u001b[0;34m\u001b[0m\u001b[0;34m\u001b[0m\u001b[0m\n\u001b[1;32m     19\u001b[0m     \u001b[0;31m#print((np.round(sig_Y, 2)  == np.round(output_from_outputlayer, 2)).sum())\u001b[0m\u001b[0;34m\u001b[0m\u001b[0;34m\u001b[0m\u001b[0;34m\u001b[0m\u001b[0m\n",
      "\u001b[0;31mNameError\u001b[0m: name 'sig_Y' is not defined"
     ]
    }
   ],
   "source": [
    "if __name__ == '__main__':\n",
    "    no_solution = 1\n",
    " \n",
    "    dims = (Input * Hidden) + Hidden + (Hidden * Output) + Output\n",
    "    w_range = (-1, 1)\n",
    "    lr_range = (0.0, 0.5)\n",
    "    alpha_range = (0.8, 0.9)  \n",
    "    components = (3, 1)  \n",
    "    #arr = np.array(output_from_outputlayer)\n",
    "    s = Swarm(no_solution, dims, w_range, lr_range, alpha_range, components)\n",
    "    \n",
    "    iterations = 200\n",
    "    s.optimize(forward_pass, input_X, output_Y, 200,iterations)\n",
    "    \n",
    "    W = s.get_best_solution()\n",
    "    Y_pred = predict(input_X, W)\n",
    "    accuracy = get_accuracy(output_Y, Y_pred)\n",
    "    Average_accuracy = accuracy.sum()/iterations\n",
    "  \n",
    "    \n",
    "    #for i in range(iterations):\n",
    "        #pass_info = pass_information(input_X, W)\n",
    "       # print(pass_info)\n",
    "    \n",
    "    \n",
    "    \n",
    "    #df2 = pd.DataFrame(columns=['Accuracy', 'Average Solution Accuracy'])\n",
    "    #df2 = df2.append({'Accuracy': accuracy, 'Average Solution Accuracy': Average_accuracy}, ignore_index=True)\n",
    "   # print(df2)\n",
    "    \n",
    "    print(\"Accuracy: %.3f\"% Average_accuracy)\n"
   ]
  },
  {
   "cell_type": "code",
   "execution_count": 23,
   "metadata": {},
   "outputs": [
    {
     "name": "stderr",
     "output_type": "stream",
     "text": [
      "<ipython-input-23-2c40b0ee455c>:5: UserWarning: Matplotlib is currently using module://ipykernel.pylab.backend_inline, which is a non-GUI backend, so cannot show the figure.\n",
      "  graph_ms.show()\n"
     ]
    },
    {
     "data": {
      "text/plain": [
       "[<matplotlib.lines.Line2D at 0x7f9a551deb80>]"
      ]
     },
     "execution_count": 23,
     "metadata": {},
     "output_type": "execute_result"
    },
    {
     "data": {
      "image/png": "[encoded data removed]",
      "text/plain": [
       "<Figure size 432x288 with 1 Axes>"
      ]
     },
     "metadata": {
      "needs_background": "light"
     },
     "output_type": "display_data"
    }
   ],
   "source": [
    "%matplotlib inline\n",
    "import matplotlib.pyplot as plt\n",
    "graph_ms = plt.figure()\n",
    "g = graph_ms.add_subplot()\n",
    "graph_ms.show()\n",
    "g.plot(MSE)"
   ]
  },
  {
   "cell_type": "code",
   "execution_count": 40,
   "metadata": {},
   "outputs": [
    {
     "data": {
      "text/plain": [
       "200"
      ]
     },
     "execution_count": 40,
     "metadata": {},
     "output_type": "execute_result"
    }
   ],
   "source": [
    "len(MSE)"
   ]
  },
  {
   "cell_type": "code",
   "execution_count": 38,
   "metadata": {},
   "outputs": [
    {
     "ename": "ValueError",
     "evalue": "Shape of passed values is (200, 1), indices imply (200, 2)",
     "output_type": "error",
     "traceback": [
      "\u001b[0;31m---------------------------------------------------------------------------\u001b[0m",
      "\u001b[0;31mValueError\u001b[0m                                Traceback (most recent call last)",
      "\u001b[0;32m~/opt/anaconda3/lib/python3.8/site-packages/pandas/core/internals/managers.py\u001b[0m in \u001b[0;36mcreate_block_manager_from_blocks\u001b[0;34m(blocks, axes)\u001b[0m\n\u001b[1;32m   1653\u001b[0m                 blocks = [\n\u001b[0;32m-> 1654\u001b[0;31m                     \u001b[0mmake_block\u001b[0m\u001b[0;34m(\u001b[0m\u001b[0mvalues\u001b[0m\u001b[0;34m=\u001b[0m\u001b[0mblocks\u001b[0m\u001b[0;34m[\u001b[0m\u001b[0;36m0\u001b[0m\u001b[0;34m]\u001b[0m\u001b[0;34m,\u001b[0m \u001b[0mplacement\u001b[0m\u001b[0;34m=\u001b[0m\u001b[0mslice\u001b[0m\u001b[0;34m(\u001b[0m\u001b[0;36m0\u001b[0m\u001b[0;34m,\u001b[0m \u001b[0mlen\u001b[0m\u001b[0;34m(\u001b[0m\u001b[0maxes\u001b[0m\u001b[0;34m[\u001b[0m\u001b[0;36m0\u001b[0m\u001b[0;34m]\u001b[0m\u001b[0;34m)\u001b[0m\u001b[0;34m)\u001b[0m\u001b[0;34m)\u001b[0m\u001b[0;34m\u001b[0m\u001b[0;34m\u001b[0m\u001b[0m\n\u001b[0m\u001b[1;32m   1655\u001b[0m                 ]\n",
      "\u001b[0;32m~/opt/anaconda3/lib/python3.8/site-packages/pandas/core/internals/blocks.py\u001b[0m in \u001b[0;36mmake_block\u001b[0;34m(values, placement, klass, ndim, dtype)\u001b[0m\n\u001b[1;32m   3052\u001b[0m \u001b[0;34m\u001b[0m\u001b[0m\n\u001b[0;32m-> 3053\u001b[0;31m     \u001b[0;32mreturn\u001b[0m \u001b[0mklass\u001b[0m\u001b[0;34m(\u001b[0m\u001b[0mvalues\u001b[0m\u001b[0;34m,\u001b[0m \u001b[0mndim\u001b[0m\u001b[0;34m=\u001b[0m\u001b[0mndim\u001b[0m\u001b[0;34m,\u001b[0m \u001b[0mplacement\u001b[0m\u001b[0;34m=\u001b[0m\u001b[0mplacement\u001b[0m\u001b[0;34m)\u001b[0m\u001b[0;34m\u001b[0m\u001b[0;34m\u001b[0m\u001b[0m\n\u001b[0m\u001b[1;32m   3054\u001b[0m \u001b[0;34m\u001b[0m\u001b[0m\n",
      "\u001b[0;32m~/opt/anaconda3/lib/python3.8/site-packages/pandas/core/internals/blocks.py\u001b[0m in \u001b[0;36m__init__\u001b[0;34m(self, values, placement, ndim)\u001b[0m\n\u001b[1;32m    123\u001b[0m         \u001b[0;32mif\u001b[0m \u001b[0mself\u001b[0m\u001b[0;34m.\u001b[0m\u001b[0m_validate_ndim\u001b[0m \u001b[0;32mand\u001b[0m \u001b[0mself\u001b[0m\u001b[0;34m.\u001b[0m\u001b[0mndim\u001b[0m \u001b[0;32mand\u001b[0m \u001b[0mlen\u001b[0m\u001b[0;34m(\u001b[0m\u001b[0mself\u001b[0m\u001b[0;34m.\u001b[0m\u001b[0mmgr_locs\u001b[0m\u001b[0;34m)\u001b[0m \u001b[0;34m!=\u001b[0m \u001b[0mlen\u001b[0m\u001b[0;34m(\u001b[0m\u001b[0mself\u001b[0m\u001b[0;34m.\u001b[0m\u001b[0mvalues\u001b[0m\u001b[0;34m)\u001b[0m\u001b[0;34m:\u001b[0m\u001b[0;34m\u001b[0m\u001b[0;34m\u001b[0m\u001b[0m\n\u001b[0;32m--> 124\u001b[0;31m             raise ValueError(\n\u001b[0m\u001b[1;32m    125\u001b[0m                 \u001b[0;34mf\"Wrong number of items passed {len(self.values)}, \"\u001b[0m\u001b[0;34m\u001b[0m\u001b[0;34m\u001b[0m\u001b[0m\n",
      "\u001b[0;31mValueError\u001b[0m: Wrong number of items passed 1, placement implies 2",
      "\nDuring handling of the above exception, another exception occurred:\n",
      "\u001b[0;31mValueError\u001b[0m                                Traceback (most recent call last)",
      "\u001b[0;32m<ipython-input-38-d1b0ba5c3fa2>\u001b[0m in \u001b[0;36m<module>\u001b[0;34m\u001b[0m\n\u001b[1;32m      1\u001b[0m \u001b[0;31m#define DataFrame\u001b[0m\u001b[0;34m\u001b[0m\u001b[0;34m\u001b[0m\u001b[0;34m\u001b[0m\u001b[0m\n\u001b[0;32m----> 2\u001b[0;31m \u001b[0mdf\u001b[0m \u001b[0;34m=\u001b[0m \u001b[0mpd\u001b[0m\u001b[0;34m.\u001b[0m\u001b[0mDataFrame\u001b[0m\u001b[0;34m(\u001b[0m\u001b[0mrange\u001b[0m\u001b[0;34m(\u001b[0m\u001b[0miterations\u001b[0m\u001b[0;34m)\u001b[0m\u001b[0;34m,\u001b[0m \u001b[0mMSE\u001b[0m\u001b[0;34m,\u001b[0m \u001b[0mcolumns\u001b[0m\u001b[0;34m=\u001b[0m\u001b[0;34m[\u001b[0m\u001b[0;34m'Iterations'\u001b[0m\u001b[0;34m,\u001b[0m \u001b[0;34m'Mean Squared Error'\u001b[0m\u001b[0;34m]\u001b[0m\u001b[0;34m)\u001b[0m\u001b[0;31m#df['MSE'] = MSE\u001b[0m\u001b[0;34m\u001b[0m\u001b[0;34m\u001b[0m\u001b[0m\n\u001b[0m\u001b[1;32m      3\u001b[0m \u001b[0;34m\u001b[0m\u001b[0m\n\u001b[1;32m      4\u001b[0m \u001b[0;31m# add data to data frame\u001b[0m\u001b[0;34m\u001b[0m\u001b[0;34m\u001b[0m\u001b[0;34m\u001b[0m\u001b[0m\n\u001b[1;32m      5\u001b[0m \u001b[0;31m#df[''] = perfect_predict_Y\u001b[0m\u001b[0;34m\u001b[0m\u001b[0;34m\u001b[0m\u001b[0;34m\u001b[0m\u001b[0m\n",
      "\u001b[0;32m~/opt/anaconda3/lib/python3.8/site-packages/pandas/core/frame.py\u001b[0m in \u001b[0;36m__init__\u001b[0;34m(self, data, index, columns, dtype, copy)\u001b[0m\n\u001b[1;32m    486\u001b[0m                     \u001b[0mmgr\u001b[0m \u001b[0;34m=\u001b[0m \u001b[0marrays_to_mgr\u001b[0m\u001b[0;34m(\u001b[0m\u001b[0marrays\u001b[0m\u001b[0;34m,\u001b[0m \u001b[0mcolumns\u001b[0m\u001b[0;34m,\u001b[0m \u001b[0mindex\u001b[0m\u001b[0;34m,\u001b[0m \u001b[0mcolumns\u001b[0m\u001b[0;34m,\u001b[0m \u001b[0mdtype\u001b[0m\u001b[0;34m=\u001b[0m\u001b[0mdtype\u001b[0m\u001b[0;34m)\u001b[0m\u001b[0;34m\u001b[0m\u001b[0;34m\u001b[0m\u001b[0m\n\u001b[1;32m    487\u001b[0m                 \u001b[0;32melse\u001b[0m\u001b[0;34m:\u001b[0m\u001b[0;34m\u001b[0m\u001b[0;34m\u001b[0m\u001b[0m\n\u001b[0;32m--> 488\u001b[0;31m                     \u001b[0mmgr\u001b[0m \u001b[0;34m=\u001b[0m \u001b[0minit_ndarray\u001b[0m\u001b[0;34m(\u001b[0m\u001b[0mdata\u001b[0m\u001b[0;34m,\u001b[0m \u001b[0mindex\u001b[0m\u001b[0;34m,\u001b[0m \u001b[0mcolumns\u001b[0m\u001b[0;34m,\u001b[0m \u001b[0mdtype\u001b[0m\u001b[0;34m=\u001b[0m\u001b[0mdtype\u001b[0m\u001b[0;34m,\u001b[0m \u001b[0mcopy\u001b[0m\u001b[0;34m=\u001b[0m\u001b[0mcopy\u001b[0m\u001b[0;34m)\u001b[0m\u001b[0;34m\u001b[0m\u001b[0;34m\u001b[0m\u001b[0m\n\u001b[0m\u001b[1;32m    489\u001b[0m             \u001b[0;32melse\u001b[0m\u001b[0;34m:\u001b[0m\u001b[0;34m\u001b[0m\u001b[0;34m\u001b[0m\u001b[0m\n\u001b[1;32m    490\u001b[0m                 \u001b[0mmgr\u001b[0m \u001b[0;34m=\u001b[0m \u001b[0minit_dict\u001b[0m\u001b[0;34m(\u001b[0m\u001b[0;34m{\u001b[0m\u001b[0;34m}\u001b[0m\u001b[0;34m,\u001b[0m \u001b[0mindex\u001b[0m\u001b[0;34m,\u001b[0m \u001b[0mcolumns\u001b[0m\u001b[0;34m,\u001b[0m \u001b[0mdtype\u001b[0m\u001b[0;34m=\u001b[0m\u001b[0mdtype\u001b[0m\u001b[0;34m)\u001b[0m\u001b[0;34m\u001b[0m\u001b[0;34m\u001b[0m\u001b[0m\n",
      "\u001b[0;32m~/opt/anaconda3/lib/python3.8/site-packages/pandas/core/internals/construction.py\u001b[0m in \u001b[0;36minit_ndarray\u001b[0;34m(values, index, columns, dtype, copy)\u001b[0m\n\u001b[1;32m    208\u001b[0m         \u001b[0mblock_values\u001b[0m \u001b[0;34m=\u001b[0m \u001b[0;34m[\u001b[0m\u001b[0mvalues\u001b[0m\u001b[0;34m]\u001b[0m\u001b[0;34m\u001b[0m\u001b[0;34m\u001b[0m\u001b[0m\n\u001b[1;32m    209\u001b[0m \u001b[0;34m\u001b[0m\u001b[0m\n\u001b[0;32m--> 210\u001b[0;31m     \u001b[0;32mreturn\u001b[0m \u001b[0mcreate_block_manager_from_blocks\u001b[0m\u001b[0;34m(\u001b[0m\u001b[0mblock_values\u001b[0m\u001b[0;34m,\u001b[0m \u001b[0;34m[\u001b[0m\u001b[0mcolumns\u001b[0m\u001b[0;34m,\u001b[0m \u001b[0mindex\u001b[0m\u001b[0;34m]\u001b[0m\u001b[0;34m)\u001b[0m\u001b[0;34m\u001b[0m\u001b[0;34m\u001b[0m\u001b[0m\n\u001b[0m\u001b[1;32m    211\u001b[0m \u001b[0;34m\u001b[0m\u001b[0m\n\u001b[1;32m    212\u001b[0m \u001b[0;34m\u001b[0m\u001b[0m\n",
      "\u001b[0;32m~/opt/anaconda3/lib/python3.8/site-packages/pandas/core/internals/managers.py\u001b[0m in \u001b[0;36mcreate_block_manager_from_blocks\u001b[0;34m(blocks, axes)\u001b[0m\n\u001b[1;32m   1662\u001b[0m         \u001b[0mblocks\u001b[0m \u001b[0;34m=\u001b[0m \u001b[0;34m[\u001b[0m\u001b[0mgetattr\u001b[0m\u001b[0;34m(\u001b[0m\u001b[0mb\u001b[0m\u001b[0;34m,\u001b[0m \u001b[0;34m\"values\"\u001b[0m\u001b[0;34m,\u001b[0m \u001b[0mb\u001b[0m\u001b[0;34m)\u001b[0m \u001b[0;32mfor\u001b[0m \u001b[0mb\u001b[0m \u001b[0;32min\u001b[0m \u001b[0mblocks\u001b[0m\u001b[0;34m]\u001b[0m\u001b[0;34m\u001b[0m\u001b[0;34m\u001b[0m\u001b[0m\n\u001b[1;32m   1663\u001b[0m         \u001b[0mtot_items\u001b[0m \u001b[0;34m=\u001b[0m \u001b[0msum\u001b[0m\u001b[0;34m(\u001b[0m\u001b[0mb\u001b[0m\u001b[0;34m.\u001b[0m\u001b[0mshape\u001b[0m\u001b[0;34m[\u001b[0m\u001b[0;36m0\u001b[0m\u001b[0;34m]\u001b[0m \u001b[0;32mfor\u001b[0m \u001b[0mb\u001b[0m \u001b[0;32min\u001b[0m \u001b[0mblocks\u001b[0m\u001b[0;34m)\u001b[0m\u001b[0;34m\u001b[0m\u001b[0;34m\u001b[0m\u001b[0m\n\u001b[0;32m-> 1664\u001b[0;31m         \u001b[0mconstruction_error\u001b[0m\u001b[0;34m(\u001b[0m\u001b[0mtot_items\u001b[0m\u001b[0;34m,\u001b[0m \u001b[0mblocks\u001b[0m\u001b[0;34m[\u001b[0m\u001b[0;36m0\u001b[0m\u001b[0;34m]\u001b[0m\u001b[0;34m.\u001b[0m\u001b[0mshape\u001b[0m\u001b[0;34m[\u001b[0m\u001b[0;36m1\u001b[0m\u001b[0;34m:\u001b[0m\u001b[0;34m]\u001b[0m\u001b[0;34m,\u001b[0m \u001b[0maxes\u001b[0m\u001b[0;34m,\u001b[0m \u001b[0me\u001b[0m\u001b[0;34m)\u001b[0m\u001b[0;34m\u001b[0m\u001b[0;34m\u001b[0m\u001b[0m\n\u001b[0m\u001b[1;32m   1665\u001b[0m \u001b[0;34m\u001b[0m\u001b[0m\n\u001b[1;32m   1666\u001b[0m \u001b[0;34m\u001b[0m\u001b[0m\n",
      "\u001b[0;32m~/opt/anaconda3/lib/python3.8/site-packages/pandas/core/internals/managers.py\u001b[0m in \u001b[0;36mconstruction_error\u001b[0;34m(tot_items, block_shape, axes, e)\u001b[0m\n\u001b[1;32m   1692\u001b[0m     \u001b[0;32mif\u001b[0m \u001b[0mblock_shape\u001b[0m\u001b[0;34m[\u001b[0m\u001b[0;36m0\u001b[0m\u001b[0;34m]\u001b[0m \u001b[0;34m==\u001b[0m \u001b[0;36m0\u001b[0m\u001b[0;34m:\u001b[0m\u001b[0;34m\u001b[0m\u001b[0;34m\u001b[0m\u001b[0m\n\u001b[1;32m   1693\u001b[0m         \u001b[0;32mraise\u001b[0m \u001b[0mValueError\u001b[0m\u001b[0;34m(\u001b[0m\u001b[0;34m\"Empty data passed with indices specified.\"\u001b[0m\u001b[0;34m)\u001b[0m\u001b[0;34m\u001b[0m\u001b[0;34m\u001b[0m\u001b[0m\n\u001b[0;32m-> 1694\u001b[0;31m     \u001b[0;32mraise\u001b[0m \u001b[0mValueError\u001b[0m\u001b[0;34m(\u001b[0m\u001b[0;34mf\"Shape of passed values is {passed}, indices imply {implied}\"\u001b[0m\u001b[0;34m)\u001b[0m\u001b[0;34m\u001b[0m\u001b[0;34m\u001b[0m\u001b[0m\n\u001b[0m\u001b[1;32m   1695\u001b[0m \u001b[0;34m\u001b[0m\u001b[0m\n\u001b[1;32m   1696\u001b[0m \u001b[0;34m\u001b[0m\u001b[0m\n",
      "\u001b[0;31mValueError\u001b[0m: Shape of passed values is (200, 1), indices imply (200, 2)"
     ]
    }
   ],
   "source": [
    "#define DataFrame\n",
    "df = pd.DataFrame(range(iterations))\n",
    "\n",
    "#add MSE array\n",
    "df['MSE'] = MSE\n",
    "\n",
    "# add data to data frame\n",
    "#df[''] = perfect_predict_Y\n",
    "\n",
    "#add more to data frame \n",
    "df.columns = ['Iterations', 'Mean Squared Error']\n",
    "df.set_index('Iterations')\n",
    "\n",
    "# save data frame to csv\n",
    "df.to_csv('MSE.csv')"
   ]
  },
  {
   "cell_type": "code",
   "execution_count": null,
   "metadata": {},
   "outputs": [],
   "source": []
  }
 ],
 "metadata": {
  "kernelspec": {
   "display_name": "Python 3",
   "language": "python",
   "name": "python3"
  },
  "language_info": {
   "codemirror_mode": {
    "name": "ipython",
    "version": 3
   },
   "file_extension": ".py",
   "mimetype": "text/x-python",
   "name": "python",
   "nbconvert_exporter": "python",
   "pygments_lexer": "ipython3",
   "version": "3.8.3"
  }
 },
 "nbformat": 4,
 "nbformat_minor": 4
}
